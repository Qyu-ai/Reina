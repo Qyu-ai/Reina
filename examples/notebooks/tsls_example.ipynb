{
 "cells": [
  {
   "cell_type": "code",
   "execution_count": null,
   "metadata": {},
   "outputs": [],
   "source": [
    "from reina.iv import SparkSeiveTSLS"
   ]
  },
  {
   "cell_type": "code",
   "execution_count": null,
   "metadata": {},
   "outputs": [],
   "source": [
    "# Note: This notebook assumes that the test_data.csv is already stored in hdfs\n",
    "# Read generated toy data from Hadoop HDFS\n",
    "df = (spark.read\n",
    "          .format(\"csv\")\n",
    "          .option('header', 'true')\n",
    "          .load(\"/test_big_data.csv\"))\n",
    "df = df.withColumn(\"var1\", df.var1.cast(\"float\"))\n",
    "df = df.withColumn(\"var2\", df.var2.cast(\"float\"))\n",
    "df = df.withColumn(\"var3\", df.var3.cast(\"float\"))\n",
    "df = df.withColumn(\"var4\", df.var4.cast(\"float\"))\n",
    "df = df.withColumn(\"var5\", df.var5.cast(\"float\"))\n",
    "df = df.withColumn(\"treatment\", df.treatment.cast(\"float\"))\n",
    "df = df.withColumn(\"outcome\", df.outcome.cast(\"float\"))\n",
    "df = df.drop(\"_c0\")\n",
    "print(df.schema)"
   ]
  },
  {
   "cell_type": "code",
   "execution_count": null,
   "metadata": {},
   "outputs": [],
   "source": [
    "# Set up necessary parameters\n",
    "treatments = ['treatment']\n",
    "outcome = 'outcome'\n",
    "iv = 'var1'\n",
    "\n",
    "# Fit TSLS\n",
    "spark_tsls = SparkSieveTSLS()\n",
    "spark_tsls.fit(data=df, treatments=treatments, outcome=outcome, iv=iv)\n",
    "\n",
    "# Get heterogeneous treatment effects (cate for individual samples and ate for averaged treatment effect)\n",
    "cate, ate = spark_tsls.effect()\n",
    "print(cate)  \n",
    "print(ate)"
   ]
  }
 ],
 "metadata": {
  "kernelspec": {
   "display_name": "Python 3",
   "language": "python",
   "name": "python3"
  },
  "language_info": {
   "codemirror_mode": {
    "name": "ipython",
    "version": 3
   },
   "file_extension": ".py",
   "mimetype": "text/x-python",
   "name": "python",
   "nbconvert_exporter": "python",
   "pygments_lexer": "ipython3",
   "version": "3.7.4"
  }
 },
 "nbformat": 4,
 "nbformat_minor": 2
}
