{
 "cells": [
  {
   "cell_type": "code",
   "execution_count": null,
   "metadata": {},
   "outputs": [],
   "source": [
    "from reina.metalearner import SparkSLearner\n",
    "from reina.metalearner import SparkTLearner\n",
    "from reina.metalearner import SparkXLearner\n",
    "from pyspark.ml.regression import RandomForestRegressor\n",
    "from pyspark.ml.classification import RandomForestClassification"
   ]
  },
  {
   "cell_type": "code",
   "execution_count": null,
   "metadata": {},
   "outputs": [],
   "source": [
    "# Note: This notebook assumes that the test_data.csv is already stored in hdfs\n",
    "# Read generated toy data from Hadoop HDFS\n",
    "df = (spark.read\n",
    "          .format(\"csv\")\n",
    "          .option('header', 'true')\n",
    "          .load(\"/test_data.csv\"))\n",
    "df = df.withColumn(\"var1\", df.var1.cast(\"float\"))\n",
    "df = df.withColumn(\"var2\", df.var2.cast(\"float\"))\n",
    "df = df.withColumn(\"var3\", df.var3.cast(\"float\"))\n",
    "df = df.withColumn(\"var4\", df.var4.cast(\"float\"))\n",
    "df = df.withColumn(\"var5\", df.var5.cast(\"float\"))\n",
    "df = df.withColumn(\"treatment\", df.treatment.cast(\"float\"))\n",
    "df = df.withColumn(\"outcome\", df.outcome.cast(\"float\"))\n",
    "df = df.drop(\"_c0\")\n",
    "print(df.schema)"
   ]
  },
  {
   "cell_type": "markdown",
   "metadata": {},
   "source": [
    "#### S-learner"
   ]
  },
  {
   "cell_type": "code",
   "execution_count": null,
   "metadata": {},
   "outputs": [],
   "source": [
    "# Set up necessary parameters\n",
    "treatments = ['treatment']\n",
    "outcome = 'outcome'\n",
    "estimator = RandomForestRegressor()\n",
    "\n",
    "# Fit S-learner\n",
    "spark_slearner = SparkSLearner()\n",
    "spark_slearner.fit(data=df, treatments=treatments, outcome=outcome, estimator=estimator)\n",
    "\n",
    "# Get heterogeneous treatment effects (cate for individual samples and ate for averaged treatment effect)\n",
    "cate, ate = spark_slearner.effects()\n",
    "print(cate)\n",
    "print(ate)"
   ]
  },
  {
   "cell_type": "markdown",
   "metadata": {},
   "source": [
    "#### T-learner"
   ]
  },
  {
   "cell_type": "code",
   "execution_count": null,
   "metadata": {},
   "outputs": [],
   "source": [
    "# Set up necessary parameters\n",
    "treatments = ['treatment']\n",
    "outcome = 'outcome'\n",
    "estimator_1 = RandomForestRegressor()\n",
    "estimator_0 = RandomForestRegressor()\n",
    "\n",
    "# Fit T-learner\n",
    "spark_tlearner = SparkTLearner()\n",
    "spark_tlearner.fit(data=df, treatments=treatments, outcome=outcome,\n",
    "                   estimator_0=estimator_0, estimator_1=estimator_1)\n",
    "\n",
    "# Get heterogeneous treatment effects (cate for individual samples and ate for averaged treatment effect)\n",
    "cate, ate = spark_tlearner.effects()\n",
    "print(cate)\n",
    "print(ate)"
   ]
  },
  {
   "cell_type": "markdown",
   "metadata": {},
   "source": [
    "#### X-learner"
   ]
  },
  {
   "cell_type": "code",
   "execution_count": null,
   "metadata": {},
   "outputs": [],
   "source": [
    "# Set up necessary parameters\n",
    "treatments = ['treatment']\n",
    "outcome = 'outcome'\n",
    "estimator_11 = RandomForestRegressor()\n",
    "estimator_10 = RandomForestRegressor()\n",
    "estimator_21 = RandomForestRegressor()\n",
    "estimator_20 = RandomForestRegressor()\n",
    "propensity_estimator = RandomForestClassifier()\n",
    "\n",
    "# Fit X-learner\n",
    "spark_xlearner = SparkXLearner()\n",
    "spark_xlearner.fit(data=df, treatments=treatments, outcome=outcome, \n",
    "                       estimator_10=estimator_10, estimator_11=estimator_11, \n",
    "                       estimator_20=estimator_20, estimator_21=estimator_21,\n",
    "                       propensity_estimator=propensity_estimator)\n",
    "\n",
    "# Get heterogeneous treatment effects (cate for individual samples and ate for averaged treatment effect)\n",
    "cate, ate = spark_xlearner.effects()\n",
    "print(cate)\n",
    "print(ate)"
   ]
  }
 ],
 "metadata": {
  "kernelspec": {
   "display_name": "Python 3",
   "language": "python",
   "name": "python3"
  },
  "language_info": {
   "codemirror_mode": {
    "name": "ipython",
    "version": 3
   },
   "file_extension": ".py",
   "mimetype": "text/x-python",
   "name": "python",
   "nbconvert_exporter": "python",
   "pygments_lexer": "ipython3",
   "version": "3.7.4"
  }
 },
 "nbformat": 4,
 "nbformat_minor": 2
}
